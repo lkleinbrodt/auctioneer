{
 "cells": [
  {
   "cell_type": "code",
   "execution_count": 1,
   "metadata": {},
   "outputs": [
    {
     "name": "stderr",
     "output_type": "stream",
     "text": [
      "2022-12-06 20:02:14.695771: I tensorflow/core/platform/cpu_feature_guard.cc:193] This TensorFlow binary is optimized with oneAPI Deep Neural Network Library (oneDNN) to use the following CPU instructions in performance-critical operations:  AVX2 FMA\n",
      "To enable them in other operations, rebuild TensorFlow with the appropriate compiler flags.\n"
     ]
    }
   ],
   "source": [
    "%load_ext autoreload\n",
    "%autoreload 2\n",
    "import pandas as pd\n",
    "from auctioneer import *\n",
    "from train_crypto_bot import *"
   ]
  },
  {
   "cell_type": "code",
   "execution_count": 2,
   "metadata": {},
   "outputs": [],
   "source": [
    "s3 = create_s3()"
   ]
  },
  {
   "cell_type": "code",
   "execution_count": 6,
   "metadata": {},
   "outputs": [],
   "source": [
    "\n",
    "\n",
    "logging.basicConfig(level = logging.DEBUG)\n",
    "logger = logging.getLogger(__name__)\n",
    "\n",
    "STARTING_BALANCE = 100_000\n",
    "START_DATE = \"11-01-2022\"\n",
    "END_DATE = \"11-30-2022\"\n",
    "\n"
   ]
  },
  {
   "cell_type": "code",
   "execution_count": 44,
   "metadata": {},
   "outputs": [],
   "source": [
    "objects = get_all_s3_objects(s3, Bucket=S3_BUCKET, Prefix='TrainedModel')"
   ]
  },
  {
   "cell_type": "code",
   "execution_count": 45,
   "metadata": {},
   "outputs": [
    {
     "name": "stderr",
     "output_type": "stream",
     "text": [
      "DEBUG:urllib3.connectionpool:Resetting dropped connection: auctioneer1.s3.us-west-1.amazonaws.com\n",
      "DEBUG:urllib3.connectionpool:https://auctioneer1.s3.us-west-1.amazonaws.com:443 \"GET /?list-type=2&max-keys=1000&prefix=TrainedModel&encoding-type=url HTTP/1.1\" 200 None\n",
      "DEBUG:s3transfer.utils:Acquiring 0\n",
      "DEBUG:s3transfer.tasks:DownloadSubmissionTask(transfer_id=0, {'transfer_future': <s3transfer.futures.TransferFuture object at 0x1924c1f30>}) about to wait for the following futures []\n",
      "DEBUG:s3transfer.tasks:DownloadSubmissionTask(transfer_id=0, {'transfer_future': <s3transfer.futures.TransferFuture object at 0x1924c1f30>}) done waiting for dependent futures\n",
      "DEBUG:s3transfer.tasks:Executing task DownloadSubmissionTask(transfer_id=0, {'transfer_future': <s3transfer.futures.TransferFuture object at 0x1924c1f30>}) with kwargs {'client': <botocore.client.S3 object at 0x158c96b00>, 'config': <boto3.s3.transfer.TransferConfig object at 0x1924c1ba0>, 'osutil': <s3transfer.utils.OSUtils object at 0x1924c1960>, 'request_executor': <s3transfer.futures.BoundedExecutor object at 0x1924c1600>, 'transfer_future': <s3transfer.futures.TransferFuture object at 0x1924c1f30>, 'io_executor': <s3transfer.futures.BoundedExecutor object at 0x1924c17e0>}\n",
      "DEBUG:urllib3.connectionpool:https://auctioneer1.s3.us-west-1.amazonaws.com:443 \"HEAD /TrainedModel//fingerprint.pb HTTP/1.1\" 200 0\n",
      "DEBUG:s3transfer.futures:Submitting task ImmediatelyWriteIOGetObjectTask(transfer_id=0, {'bucket': 'auctioneer1', 'key': 'TrainedModel//fingerprint.pb', 'extra_args': {}}) to executor <s3transfer.futures.BoundedExecutor object at 0x1924c1600> for transfer request: 0.\n",
      "DEBUG:s3transfer.utils:Acquiring 0\n",
      "DEBUG:s3transfer.tasks:ImmediatelyWriteIOGetObjectTask(transfer_id=0, {'bucket': 'auctioneer1', 'key': 'TrainedModel//fingerprint.pb', 'extra_args': {}}) about to wait for the following futures []\n",
      "DEBUG:s3transfer.utils:Releasing acquire 0/None\n",
      "DEBUG:s3transfer.tasks:ImmediatelyWriteIOGetObjectTask(transfer_id=0, {'bucket': 'auctioneer1', 'key': 'TrainedModel//fingerprint.pb', 'extra_args': {}}) done waiting for dependent futures\n",
      "DEBUG:s3transfer.tasks:Executing task ImmediatelyWriteIOGetObjectTask(transfer_id=0, {'bucket': 'auctioneer1', 'key': 'TrainedModel//fingerprint.pb', 'extra_args': {}}) with kwargs {'client': <botocore.client.S3 object at 0x158c96b00>, 'bucket': 'auctioneer1', 'key': 'TrainedModel//fingerprint.pb', 'fileobj': <s3transfer.utils.DeferredOpenFile object at 0x1924c2200>, 'extra_args': {}, 'callbacks': [], 'max_attempts': 5, 'download_output_manager': <s3transfer.download.DownloadFilenameOutputManager object at 0x1924c2080>, 'io_chunksize': 262144, 'bandwidth_limiter': None}\n"
     ]
    },
    {
     "name": "stdout",
     "output_type": "stream",
     "text": [
      "/var/folders/tm/wlbv0c4j0gnb8bk65vggdnkm0000gn/T/tmpejdmyaov/TrainedModel/TrainedModel//fingerprint.pb\n"
     ]
    },
    {
     "name": "stderr",
     "output_type": "stream",
     "text": [
      "DEBUG:urllib3.connectionpool:https://auctioneer1.s3.us-west-1.amazonaws.com:443 \"GET /TrainedModel//fingerprint.pb HTTP/1.1\" 200 55\n",
      "DEBUG:s3transfer.tasks:IOWriteTask(transfer_id=0, {'offset': 0}) about to wait for the following futures []\n",
      "DEBUG:s3transfer.tasks:IOWriteTask(transfer_id=0, {'offset': 0}) done waiting for dependent futures\n",
      "DEBUG:s3transfer.tasks:Executing task IOWriteTask(transfer_id=0, {'offset': 0}) with kwargs {'fileobj': <s3transfer.utils.DeferredOpenFile object at 0x1924c2200>, 'offset': 0}\n",
      "DEBUG:s3transfer.tasks:IORenameFileTask(transfer_id=0, {'final_filename': '/var/folders/tm/wlbv0c4j0gnb8bk65vggdnkm0000gn/T/tmpejdmyaov/TrainedModel/TrainedModel//fingerprint.pb'}) about to wait for the following futures []\n",
      "DEBUG:s3transfer.tasks:IORenameFileTask(transfer_id=0, {'final_filename': '/var/folders/tm/wlbv0c4j0gnb8bk65vggdnkm0000gn/T/tmpejdmyaov/TrainedModel/TrainedModel//fingerprint.pb'}) done waiting for dependent futures\n",
      "DEBUG:s3transfer.tasks:Executing task IORenameFileTask(transfer_id=0, {'final_filename': '/var/folders/tm/wlbv0c4j0gnb8bk65vggdnkm0000gn/T/tmpejdmyaov/TrainedModel/TrainedModel//fingerprint.pb'}) with kwargs {'fileobj': <s3transfer.utils.DeferredOpenFile object at 0x1924c2200>, 'final_filename': '/var/folders/tm/wlbv0c4j0gnb8bk65vggdnkm0000gn/T/tmpejdmyaov/TrainedModel/TrainedModel//fingerprint.pb', 'osutil': <s3transfer.utils.OSUtils object at 0x1924c1960>}\n",
      "DEBUG:s3transfer.utils:Releasing acquire 0/None\n",
      "DEBUG:s3transfer.utils:Acquiring 0\n",
      "DEBUG:s3transfer.tasks:DownloadSubmissionTask(transfer_id=0, {'transfer_future': <s3transfer.futures.TransferFuture object at 0x1924c25c0>}) about to wait for the following futures []\n",
      "DEBUG:s3transfer.tasks:DownloadSubmissionTask(transfer_id=0, {'transfer_future': <s3transfer.futures.TransferFuture object at 0x1924c25c0>}) done waiting for dependent futures\n",
      "DEBUG:s3transfer.tasks:Executing task DownloadSubmissionTask(transfer_id=0, {'transfer_future': <s3transfer.futures.TransferFuture object at 0x1924c25c0>}) with kwargs {'client': <botocore.client.S3 object at 0x158c96b00>, 'config': <boto3.s3.transfer.TransferConfig object at 0x1924c13c0>, 'osutil': <s3transfer.utils.OSUtils object at 0x1924c1e70>, 'request_executor': <s3transfer.futures.BoundedExecutor object at 0x1924c10f0>, 'transfer_future': <s3transfer.futures.TransferFuture object at 0x1924c25c0>, 'io_executor': <s3transfer.futures.BoundedExecutor object at 0x1924c2230>}\n",
      "DEBUG:urllib3.connectionpool:https://auctioneer1.s3.us-west-1.amazonaws.com:443 \"HEAD /TrainedModel//keras_metadata.pb HTTP/1.1\" 200 0\n",
      "DEBUG:s3transfer.futures:Submitting task ImmediatelyWriteIOGetObjectTask(transfer_id=0, {'bucket': 'auctioneer1', 'key': 'TrainedModel//keras_metadata.pb', 'extra_args': {}}) to executor <s3transfer.futures.BoundedExecutor object at 0x1924c10f0> for transfer request: 0.\n",
      "DEBUG:s3transfer.utils:Acquiring 0\n",
      "DEBUG:s3transfer.tasks:ImmediatelyWriteIOGetObjectTask(transfer_id=0, {'bucket': 'auctioneer1', 'key': 'TrainedModel//keras_metadata.pb', 'extra_args': {}}) about to wait for the following futures []\n",
      "DEBUG:s3transfer.utils:Releasing acquire 0/None\n",
      "DEBUG:s3transfer.tasks:ImmediatelyWriteIOGetObjectTask(transfer_id=0, {'bucket': 'auctioneer1', 'key': 'TrainedModel//keras_metadata.pb', 'extra_args': {}}) done waiting for dependent futures\n",
      "DEBUG:s3transfer.tasks:Executing task ImmediatelyWriteIOGetObjectTask(transfer_id=0, {'bucket': 'auctioneer1', 'key': 'TrainedModel//keras_metadata.pb', 'extra_args': {}}) with kwargs {'client': <botocore.client.S3 object at 0x158c96b00>, 'bucket': 'auctioneer1', 'key': 'TrainedModel//keras_metadata.pb', 'fileobj': <s3transfer.utils.DeferredOpenFile object at 0x1924c27a0>, 'extra_args': {}, 'callbacks': [], 'max_attempts': 5, 'download_output_manager': <s3transfer.download.DownloadFilenameOutputManager object at 0x1924c18d0>, 'io_chunksize': 262144, 'bandwidth_limiter': None}\n"
     ]
    },
    {
     "name": "stdout",
     "output_type": "stream",
     "text": [
      "/var/folders/tm/wlbv0c4j0gnb8bk65vggdnkm0000gn/T/tmpejdmyaov/TrainedModel/TrainedModel//keras_metadata.pb\n"
     ]
    },
    {
     "name": "stderr",
     "output_type": "stream",
     "text": [
      "DEBUG:urllib3.connectionpool:https://auctioneer1.s3.us-west-1.amazonaws.com:443 \"GET /TrainedModel//keras_metadata.pb HTTP/1.1\" 200 26704\n",
      "DEBUG:s3transfer.tasks:IOWriteTask(transfer_id=0, {'offset': 0}) about to wait for the following futures []\n",
      "DEBUG:s3transfer.tasks:IOWriteTask(transfer_id=0, {'offset': 0}) done waiting for dependent futures\n",
      "DEBUG:s3transfer.tasks:Executing task IOWriteTask(transfer_id=0, {'offset': 0}) with kwargs {'fileobj': <s3transfer.utils.DeferredOpenFile object at 0x1924c27a0>, 'offset': 0}\n",
      "DEBUG:s3transfer.tasks:IORenameFileTask(transfer_id=0, {'final_filename': '/var/folders/tm/wlbv0c4j0gnb8bk65vggdnkm0000gn/T/tmpejdmyaov/TrainedModel/TrainedModel//keras_metadata.pb'}) about to wait for the following futures []\n",
      "DEBUG:s3transfer.tasks:IORenameFileTask(transfer_id=0, {'final_filename': '/var/folders/tm/wlbv0c4j0gnb8bk65vggdnkm0000gn/T/tmpejdmyaov/TrainedModel/TrainedModel//keras_metadata.pb'}) done waiting for dependent futures\n",
      "DEBUG:s3transfer.tasks:Executing task IORenameFileTask(transfer_id=0, {'final_filename': '/var/folders/tm/wlbv0c4j0gnb8bk65vggdnkm0000gn/T/tmpejdmyaov/TrainedModel/TrainedModel//keras_metadata.pb'}) with kwargs {'fileobj': <s3transfer.utils.DeferredOpenFile object at 0x1924c27a0>, 'final_filename': '/var/folders/tm/wlbv0c4j0gnb8bk65vggdnkm0000gn/T/tmpejdmyaov/TrainedModel/TrainedModel//keras_metadata.pb', 'osutil': <s3transfer.utils.OSUtils object at 0x1924c1e70>}\n",
      "DEBUG:s3transfer.utils:Releasing acquire 0/None\n",
      "DEBUG:s3transfer.utils:Acquiring 0\n",
      "DEBUG:s3transfer.tasks:DownloadSubmissionTask(transfer_id=0, {'transfer_future': <s3transfer.futures.TransferFuture object at 0x1924c1f90>}) about to wait for the following futures []\n",
      "DEBUG:s3transfer.tasks:DownloadSubmissionTask(transfer_id=0, {'transfer_future': <s3transfer.futures.TransferFuture object at 0x1924c1f90>}) done waiting for dependent futures\n",
      "DEBUG:s3transfer.tasks:Executing task DownloadSubmissionTask(transfer_id=0, {'transfer_future': <s3transfer.futures.TransferFuture object at 0x1924c1f90>}) with kwargs {'client': <botocore.client.S3 object at 0x158c96b00>, 'config': <boto3.s3.transfer.TransferConfig object at 0x1924c19f0>, 'osutil': <s3transfer.utils.OSUtils object at 0x1924c2230>, 'request_executor': <s3transfer.futures.BoundedExecutor object at 0x1924c2290>, 'transfer_future': <s3transfer.futures.TransferFuture object at 0x1924c1f90>, 'io_executor': <s3transfer.futures.BoundedExecutor object at 0x1924c2170>}\n",
      "DEBUG:urllib3.connectionpool:https://auctioneer1.s3.us-west-1.amazonaws.com:443 \"HEAD /TrainedModel//saved_model.pb HTTP/1.1\" 200 0\n",
      "DEBUG:s3transfer.futures:Submitting task ImmediatelyWriteIOGetObjectTask(transfer_id=0, {'bucket': 'auctioneer1', 'key': 'TrainedModel//saved_model.pb', 'extra_args': {}}) to executor <s3transfer.futures.BoundedExecutor object at 0x1924c2290> for transfer request: 0.\n",
      "DEBUG:s3transfer.utils:Acquiring 0\n",
      "DEBUG:s3transfer.tasks:ImmediatelyWriteIOGetObjectTask(transfer_id=0, {'bucket': 'auctioneer1', 'key': 'TrainedModel//saved_model.pb', 'extra_args': {}}) about to wait for the following futures []\n",
      "DEBUG:s3transfer.tasks:ImmediatelyWriteIOGetObjectTask(transfer_id=0, {'bucket': 'auctioneer1', 'key': 'TrainedModel//saved_model.pb', 'extra_args': {}}) done waiting for dependent futures\n",
      "DEBUG:s3transfer.tasks:Executing task ImmediatelyWriteIOGetObjectTask(transfer_id=0, {'bucket': 'auctioneer1', 'key': 'TrainedModel//saved_model.pb', 'extra_args': {}}) with kwargs {'client': <botocore.client.S3 object at 0x158c96b00>, 'bucket': 'auctioneer1', 'key': 'TrainedModel//saved_model.pb', 'fileobj': <s3transfer.utils.DeferredOpenFile object at 0x1924c2d70>, 'extra_args': {}, 'callbacks': [], 'max_attempts': 5, 'download_output_manager': <s3transfer.download.DownloadFilenameOutputManager object at 0x1924c1f60>, 'io_chunksize': 262144, 'bandwidth_limiter': None}\n",
      "DEBUG:s3transfer.utils:Releasing acquire 0/None\n"
     ]
    },
    {
     "name": "stdout",
     "output_type": "stream",
     "text": [
      "/var/folders/tm/wlbv0c4j0gnb8bk65vggdnkm0000gn/T/tmpejdmyaov/TrainedModel/TrainedModel//saved_model.pb\n"
     ]
    },
    {
     "name": "stderr",
     "output_type": "stream",
     "text": [
      "DEBUG:urllib3.connectionpool:https://auctioneer1.s3.us-west-1.amazonaws.com:443 \"GET /TrainedModel//saved_model.pb HTTP/1.1\" 200 2825633\n",
      "DEBUG:s3transfer.tasks:IOWriteTask(transfer_id=0, {'offset': 0}) about to wait for the following futures []\n",
      "DEBUG:s3transfer.tasks:IOWriteTask(transfer_id=0, {'offset': 0}) done waiting for dependent futures\n",
      "DEBUG:s3transfer.tasks:Executing task IOWriteTask(transfer_id=0, {'offset': 0}) with kwargs {'fileobj': <s3transfer.utils.DeferredOpenFile object at 0x1924c2d70>, 'offset': 0}\n",
      "DEBUG:s3transfer.tasks:IOWriteTask(transfer_id=0, {'offset': 262144}) about to wait for the following futures []\n",
      "DEBUG:s3transfer.tasks:IOWriteTask(transfer_id=0, {'offset': 262144}) done waiting for dependent futures\n",
      "DEBUG:s3transfer.tasks:Executing task IOWriteTask(transfer_id=0, {'offset': 262144}) with kwargs {'fileobj': <s3transfer.utils.DeferredOpenFile object at 0x1924c2d70>, 'offset': 262144}\n",
      "DEBUG:s3transfer.tasks:IOWriteTask(transfer_id=0, {'offset': 524288}) about to wait for the following futures []\n",
      "DEBUG:s3transfer.tasks:IOWriteTask(transfer_id=0, {'offset': 524288}) done waiting for dependent futures\n",
      "DEBUG:s3transfer.tasks:Executing task IOWriteTask(transfer_id=0, {'offset': 524288}) with kwargs {'fileobj': <s3transfer.utils.DeferredOpenFile object at 0x1924c2d70>, 'offset': 524288}\n",
      "DEBUG:s3transfer.tasks:IOWriteTask(transfer_id=0, {'offset': 786432}) about to wait for the following futures []\n",
      "DEBUG:s3transfer.tasks:IOWriteTask(transfer_id=0, {'offset': 786432}) done waiting for dependent futures\n",
      "DEBUG:s3transfer.tasks:Executing task IOWriteTask(transfer_id=0, {'offset': 786432}) with kwargs {'fileobj': <s3transfer.utils.DeferredOpenFile object at 0x1924c2d70>, 'offset': 786432}\n",
      "DEBUG:s3transfer.tasks:IOWriteTask(transfer_id=0, {'offset': 1048576}) about to wait for the following futures []\n",
      "DEBUG:s3transfer.tasks:IOWriteTask(transfer_id=0, {'offset': 1048576}) done waiting for dependent futures\n",
      "DEBUG:s3transfer.tasks:Executing task IOWriteTask(transfer_id=0, {'offset': 1048576}) with kwargs {'fileobj': <s3transfer.utils.DeferredOpenFile object at 0x1924c2d70>, 'offset': 1048576}\n",
      "DEBUG:s3transfer.tasks:IOWriteTask(transfer_id=0, {'offset': 1310720}) about to wait for the following futures []\n",
      "DEBUG:s3transfer.tasks:IOWriteTask(transfer_id=0, {'offset': 1310720}) done waiting for dependent futures\n",
      "DEBUG:s3transfer.tasks:Executing task IOWriteTask(transfer_id=0, {'offset': 1310720}) with kwargs {'fileobj': <s3transfer.utils.DeferredOpenFile object at 0x1924c2d70>, 'offset': 1310720}\n",
      "DEBUG:s3transfer.tasks:IOWriteTask(transfer_id=0, {'offset': 1572864}) about to wait for the following futures []\n",
      "DEBUG:s3transfer.tasks:IOWriteTask(transfer_id=0, {'offset': 1572864}) done waiting for dependent futures\n",
      "DEBUG:s3transfer.tasks:Executing task IOWriteTask(transfer_id=0, {'offset': 1572864}) with kwargs {'fileobj': <s3transfer.utils.DeferredOpenFile object at 0x1924c2d70>, 'offset': 1572864}\n",
      "DEBUG:s3transfer.tasks:IOWriteTask(transfer_id=0, {'offset': 1835008}) about to wait for the following futures []\n",
      "DEBUG:s3transfer.tasks:IOWriteTask(transfer_id=0, {'offset': 1835008}) done waiting for dependent futures\n",
      "DEBUG:s3transfer.tasks:Executing task IOWriteTask(transfer_id=0, {'offset': 1835008}) with kwargs {'fileobj': <s3transfer.utils.DeferredOpenFile object at 0x1924c2d70>, 'offset': 1835008}\n",
      "DEBUG:s3transfer.tasks:IOWriteTask(transfer_id=0, {'offset': 2097152}) about to wait for the following futures []\n",
      "DEBUG:s3transfer.tasks:IOWriteTask(transfer_id=0, {'offset': 2097152}) done waiting for dependent futures\n",
      "DEBUG:s3transfer.tasks:Executing task IOWriteTask(transfer_id=0, {'offset': 2097152}) with kwargs {'fileobj': <s3transfer.utils.DeferredOpenFile object at 0x1924c2d70>, 'offset': 2097152}\n",
      "DEBUG:s3transfer.tasks:IOWriteTask(transfer_id=0, {'offset': 2359296}) about to wait for the following futures []\n",
      "DEBUG:s3transfer.tasks:IOWriteTask(transfer_id=0, {'offset': 2359296}) done waiting for dependent futures\n",
      "DEBUG:s3transfer.tasks:Executing task IOWriteTask(transfer_id=0, {'offset': 2359296}) with kwargs {'fileobj': <s3transfer.utils.DeferredOpenFile object at 0x1924c2d70>, 'offset': 2359296}\n",
      "DEBUG:s3transfer.tasks:IOWriteTask(transfer_id=0, {'offset': 2621440}) about to wait for the following futures []\n",
      "DEBUG:s3transfer.tasks:IOWriteTask(transfer_id=0, {'offset': 2621440}) done waiting for dependent futures\n",
      "DEBUG:s3transfer.tasks:Executing task IOWriteTask(transfer_id=0, {'offset': 2621440}) with kwargs {'fileobj': <s3transfer.utils.DeferredOpenFile object at 0x1924c2d70>, 'offset': 2621440}\n",
      "DEBUG:s3transfer.tasks:IORenameFileTask(transfer_id=0, {'final_filename': '/var/folders/tm/wlbv0c4j0gnb8bk65vggdnkm0000gn/T/tmpejdmyaov/TrainedModel/TrainedModel//saved_model.pb'}) about to wait for the following futures []\n",
      "DEBUG:s3transfer.tasks:IORenameFileTask(transfer_id=0, {'final_filename': '/var/folders/tm/wlbv0c4j0gnb8bk65vggdnkm0000gn/T/tmpejdmyaov/TrainedModel/TrainedModel//saved_model.pb'}) done waiting for dependent futures\n",
      "DEBUG:s3transfer.tasks:Executing task IORenameFileTask(transfer_id=0, {'final_filename': '/var/folders/tm/wlbv0c4j0gnb8bk65vggdnkm0000gn/T/tmpejdmyaov/TrainedModel/TrainedModel//saved_model.pb'}) with kwargs {'fileobj': <s3transfer.utils.DeferredOpenFile object at 0x1924c2d70>, 'final_filename': '/var/folders/tm/wlbv0c4j0gnb8bk65vggdnkm0000gn/T/tmpejdmyaov/TrainedModel/TrainedModel//saved_model.pb', 'osutil': <s3transfer.utils.OSUtils object at 0x1924c2230>}\n",
      "DEBUG:s3transfer.utils:Releasing acquire 0/None\n",
      "DEBUG:s3transfer.utils:Acquiring 0\n",
      "DEBUG:s3transfer.tasks:DownloadSubmissionTask(transfer_id=0, {'transfer_future': <s3transfer.futures.TransferFuture object at 0x1924c19f0>}) about to wait for the following futures []\n",
      "DEBUG:s3transfer.tasks:DownloadSubmissionTask(transfer_id=0, {'transfer_future': <s3transfer.futures.TransferFuture object at 0x1924c19f0>}) done waiting for dependent futures\n",
      "DEBUG:s3transfer.tasks:Executing task DownloadSubmissionTask(transfer_id=0, {'transfer_future': <s3transfer.futures.TransferFuture object at 0x1924c19f0>}) with kwargs {'client': <botocore.client.S3 object at 0x158c96b00>, 'config': <boto3.s3.transfer.TransferConfig object at 0x1924c2170>, 'osutil': <s3transfer.utils.OSUtils object at 0x1924c2a10>, 'request_executor': <s3transfer.futures.BoundedExecutor object at 0x1924c1600>, 'transfer_future': <s3transfer.futures.TransferFuture object at 0x1924c19f0>, 'io_executor': <s3transfer.futures.BoundedExecutor object at 0x1924c3880>}\n",
      "DEBUG:urllib3.connectionpool:https://auctioneer1.s3.us-west-1.amazonaws.com:443 \"HEAD /TrainedModel//variables/variables.data-00000-of-00001 HTTP/1.1\" 200 0\n",
      "DEBUG:s3transfer.futures:Submitting task ImmediatelyWriteIOGetObjectTask(transfer_id=0, {'bucket': 'auctioneer1', 'key': 'TrainedModel//variables/variables.data-00000-of-00001', 'extra_args': {}}) to executor <s3transfer.futures.BoundedExecutor object at 0x1924c1600> for transfer request: 0.\n",
      "DEBUG:s3transfer.utils:Acquiring 0\n",
      "DEBUG:s3transfer.tasks:ImmediatelyWriteIOGetObjectTask(transfer_id=0, {'bucket': 'auctioneer1', 'key': 'TrainedModel//variables/variables.data-00000-of-00001', 'extra_args': {}}) about to wait for the following futures []\n",
      "DEBUG:s3transfer.utils:Releasing acquire 0/None\n",
      "DEBUG:s3transfer.tasks:ImmediatelyWriteIOGetObjectTask(transfer_id=0, {'bucket': 'auctioneer1', 'key': 'TrainedModel//variables/variables.data-00000-of-00001', 'extra_args': {}}) done waiting for dependent futures\n",
      "DEBUG:s3transfer.tasks:Executing task ImmediatelyWriteIOGetObjectTask(transfer_id=0, {'bucket': 'auctioneer1', 'key': 'TrainedModel//variables/variables.data-00000-of-00001', 'extra_args': {}}) with kwargs {'client': <botocore.client.S3 object at 0x158c96b00>, 'bucket': 'auctioneer1', 'key': 'TrainedModel//variables/variables.data-00000-of-00001', 'fileobj': <s3transfer.utils.DeferredOpenFile object at 0x1924c3820>, 'extra_args': {}, 'callbacks': [], 'max_attempts': 5, 'download_output_manager': <s3transfer.download.DownloadFilenameOutputManager object at 0x1924c20e0>, 'io_chunksize': 262144, 'bandwidth_limiter': None}\n"
     ]
    },
    {
     "name": "stdout",
     "output_type": "stream",
     "text": [
      "/var/folders/tm/wlbv0c4j0gnb8bk65vggdnkm0000gn/T/tmpejdmyaov/TrainedModel/TrainedModel//variables/variables.data-00000-of-00001\n"
     ]
    },
    {
     "name": "stderr",
     "output_type": "stream",
     "text": [
      "DEBUG:urllib3.connectionpool:https://auctioneer1.s3.us-west-1.amazonaws.com:443 \"GET /TrainedModel//variables/variables.data-00000-of-00001 HTTP/1.1\" 200 105823\n",
      "DEBUG:s3transfer.tasks:IOWriteTask(transfer_id=0, {'offset': 0}) about to wait for the following futures []\n",
      "DEBUG:s3transfer.tasks:IOWriteTask(transfer_id=0, {'offset': 0}) done waiting for dependent futures\n",
      "DEBUG:s3transfer.tasks:Executing task IOWriteTask(transfer_id=0, {'offset': 0}) with kwargs {'fileobj': <s3transfer.utils.DeferredOpenFile object at 0x1924c3820>, 'offset': 0}\n",
      "DEBUG:s3transfer.tasks:IORenameFileTask(transfer_id=0, {'final_filename': '/var/folders/tm/wlbv0c4j0gnb8bk65vggdnkm0000gn/T/tmpejdmyaov/TrainedModel/TrainedModel//variables/variables.data-00000-of-00001'}) about to wait for the following futures []\n",
      "DEBUG:s3transfer.tasks:IORenameFileTask(transfer_id=0, {'final_filename': '/var/folders/tm/wlbv0c4j0gnb8bk65vggdnkm0000gn/T/tmpejdmyaov/TrainedModel/TrainedModel//variables/variables.data-00000-of-00001'}) done waiting for dependent futures\n",
      "DEBUG:s3transfer.tasks:Executing task IORenameFileTask(transfer_id=0, {'final_filename': '/var/folders/tm/wlbv0c4j0gnb8bk65vggdnkm0000gn/T/tmpejdmyaov/TrainedModel/TrainedModel//variables/variables.data-00000-of-00001'}) with kwargs {'fileobj': <s3transfer.utils.DeferredOpenFile object at 0x1924c3820>, 'final_filename': '/var/folders/tm/wlbv0c4j0gnb8bk65vggdnkm0000gn/T/tmpejdmyaov/TrainedModel/TrainedModel//variables/variables.data-00000-of-00001', 'osutil': <s3transfer.utils.OSUtils object at 0x1924c2a10>}\n",
      "DEBUG:s3transfer.utils:Releasing acquire 0/None\n",
      "DEBUG:s3transfer.utils:Acquiring 0\n",
      "DEBUG:s3transfer.tasks:DownloadSubmissionTask(transfer_id=0, {'transfer_future': <s3transfer.futures.TransferFuture object at 0x1924c2e00>}) about to wait for the following futures []\n",
      "DEBUG:s3transfer.tasks:DownloadSubmissionTask(transfer_id=0, {'transfer_future': <s3transfer.futures.TransferFuture object at 0x1924c2e00>}) done waiting for dependent futures\n",
      "DEBUG:s3transfer.tasks:Executing task DownloadSubmissionTask(transfer_id=0, {'transfer_future': <s3transfer.futures.TransferFuture object at 0x1924c2e00>}) with kwargs {'client': <botocore.client.S3 object at 0x158c96b00>, 'config': <boto3.s3.transfer.TransferConfig object at 0x1924c2ad0>, 'osutil': <s3transfer.utils.OSUtils object at 0x1924c3880>, 'request_executor': <s3transfer.futures.BoundedExecutor object at 0x1924c21a0>, 'transfer_future': <s3transfer.futures.TransferFuture object at 0x1924c2e00>, 'io_executor': <s3transfer.futures.BoundedExecutor object at 0x1924c1510>}\n",
      "DEBUG:urllib3.connectionpool:https://auctioneer1.s3.us-west-1.amazonaws.com:443 \"HEAD /TrainedModel//variables/variables.index HTTP/1.1\" 200 0\n",
      "DEBUG:s3transfer.futures:Submitting task ImmediatelyWriteIOGetObjectTask(transfer_id=0, {'bucket': 'auctioneer1', 'key': 'TrainedModel//variables/variables.index', 'extra_args': {}}) to executor <s3transfer.futures.BoundedExecutor object at 0x1924c21a0> for transfer request: 0.\n",
      "DEBUG:s3transfer.utils:Acquiring 0\n",
      "DEBUG:s3transfer.tasks:ImmediatelyWriteIOGetObjectTask(transfer_id=0, {'bucket': 'auctioneer1', 'key': 'TrainedModel//variables/variables.index', 'extra_args': {}}) about to wait for the following futures []\n",
      "DEBUG:s3transfer.utils:Releasing acquire 0/None\n",
      "DEBUG:s3transfer.tasks:ImmediatelyWriteIOGetObjectTask(transfer_id=0, {'bucket': 'auctioneer1', 'key': 'TrainedModel//variables/variables.index', 'extra_args': {}}) done waiting for dependent futures\n",
      "DEBUG:s3transfer.tasks:Executing task ImmediatelyWriteIOGetObjectTask(transfer_id=0, {'bucket': 'auctioneer1', 'key': 'TrainedModel//variables/variables.index', 'extra_args': {}}) with kwargs {'client': <botocore.client.S3 object at 0x158c96b00>, 'bucket': 'auctioneer1', 'key': 'TrainedModel//variables/variables.index', 'fileobj': <s3transfer.utils.DeferredOpenFile object at 0x1924c3160>, 'extra_args': {}, 'callbacks': [], 'max_attempts': 5, 'download_output_manager': <s3transfer.download.DownloadFilenameOutputManager object at 0x1924c2ec0>, 'io_chunksize': 262144, 'bandwidth_limiter': None}\n"
     ]
    },
    {
     "name": "stdout",
     "output_type": "stream",
     "text": [
      "/var/folders/tm/wlbv0c4j0gnb8bk65vggdnkm0000gn/T/tmpejdmyaov/TrainedModel/TrainedModel//variables/variables.index\n"
     ]
    },
    {
     "name": "stderr",
     "output_type": "stream",
     "text": [
      "DEBUG:urllib3.connectionpool:https://auctioneer1.s3.us-west-1.amazonaws.com:443 \"GET /TrainedModel//variables/variables.index HTTP/1.1\" 200 2702\n",
      "DEBUG:s3transfer.tasks:IOWriteTask(transfer_id=0, {'offset': 0}) about to wait for the following futures []\n",
      "DEBUG:s3transfer.tasks:IOWriteTask(transfer_id=0, {'offset': 0}) done waiting for dependent futures\n",
      "DEBUG:s3transfer.tasks:Executing task IOWriteTask(transfer_id=0, {'offset': 0}) with kwargs {'fileobj': <s3transfer.utils.DeferredOpenFile object at 0x1924c3160>, 'offset': 0}\n",
      "DEBUG:s3transfer.tasks:IORenameFileTask(transfer_id=0, {'final_filename': '/var/folders/tm/wlbv0c4j0gnb8bk65vggdnkm0000gn/T/tmpejdmyaov/TrainedModel/TrainedModel//variables/variables.index'}) about to wait for the following futures []\n",
      "DEBUG:s3transfer.tasks:IORenameFileTask(transfer_id=0, {'final_filename': '/var/folders/tm/wlbv0c4j0gnb8bk65vggdnkm0000gn/T/tmpejdmyaov/TrainedModel/TrainedModel//variables/variables.index'}) done waiting for dependent futures\n",
      "DEBUG:s3transfer.tasks:Executing task IORenameFileTask(transfer_id=0, {'final_filename': '/var/folders/tm/wlbv0c4j0gnb8bk65vggdnkm0000gn/T/tmpejdmyaov/TrainedModel/TrainedModel//variables/variables.index'}) with kwargs {'fileobj': <s3transfer.utils.DeferredOpenFile object at 0x1924c3160>, 'final_filename': '/var/folders/tm/wlbv0c4j0gnb8bk65vggdnkm0000gn/T/tmpejdmyaov/TrainedModel/TrainedModel//variables/variables.index', 'osutil': <s3transfer.utils.OSUtils object at 0x1924c3880>}\n",
      "DEBUG:s3transfer.utils:Releasing acquire 0/None\n"
     ]
    },
    {
     "ename": "OSError",
     "evalue": "SavedModel file does not exist at: /var/folders/tm/wlbv0c4j0gnb8bk65vggdnkm0000gn/T/tmpejdmyaov/TrainedModel/{saved_model.pbtxt|saved_model.pb}",
     "output_type": "error",
     "traceback": [
      "\u001b[0;31m---------------------------------------------------------------------------\u001b[0m",
      "\u001b[0;31mOSError\u001b[0m                                   Traceback (most recent call last)",
      "Cell \u001b[0;32mIn [45], line 1\u001b[0m\n\u001b[0;32m----> 1\u001b[0m model, scalers \u001b[39m=\u001b[39m download_model(s3)\n",
      "Cell \u001b[0;32mIn [41], line 4\u001b[0m, in \u001b[0;36mdownload_model\u001b[0;34m(s3)\u001b[0m\n\u001b[1;32m      2\u001b[0m \u001b[39mwith\u001b[39;00m TemporaryDirectory() \u001b[39mas\u001b[39;00m tempdir:\n\u001b[1;32m      3\u001b[0m     download_s3_directory(s3, \u001b[39m'\u001b[39m\u001b[39mTrainedModel\u001b[39m\u001b[39m'\u001b[39m, \u001b[39mf\u001b[39m\u001b[39m\"\u001b[39m\u001b[39m{\u001b[39;00mtempdir\u001b[39m}\u001b[39;00m\u001b[39m/TrainedModel\u001b[39m\u001b[39m\"\u001b[39m)\n\u001b[0;32m----> 4\u001b[0m     model \u001b[39m=\u001b[39m tf\u001b[39m.\u001b[39;49mkeras\u001b[39m.\u001b[39;49mmodels\u001b[39m.\u001b[39;49mload_model(\u001b[39mf\u001b[39;49m\u001b[39m\"\u001b[39;49m\u001b[39m{\u001b[39;49;00mtempdir\u001b[39m}\u001b[39;49;00m\u001b[39m/TrainedModel\u001b[39;49m\u001b[39m\"\u001b[39;49m)\n\u001b[1;32m      6\u001b[0m     s3\u001b[39m.\u001b[39mdownload_file(S3_BUCKET, \u001b[39m'\u001b[39m\u001b[39mscalers.gz\u001b[39m\u001b[39m'\u001b[39m, \u001b[39mf\u001b[39m\u001b[39m\"\u001b[39m\u001b[39m{\u001b[39;00mtempdir\u001b[39m}\u001b[39;00m\u001b[39m/scalers.gz\u001b[39m\u001b[39m\"\u001b[39m)\n\u001b[1;32m      7\u001b[0m     scalers \u001b[39m=\u001b[39m joblib\u001b[39m.\u001b[39mload(\u001b[39mf\u001b[39m\u001b[39m\"\u001b[39m\u001b[39m{\u001b[39;00mtempdir\u001b[39m}\u001b[39;00m\u001b[39m/scalers.gz\u001b[39m\u001b[39m\"\u001b[39m)\n",
      "File \u001b[0;32m~/opt/anaconda3/envs/auctioneer/lib/python3.10/site-packages/keras/utils/traceback_utils.py:70\u001b[0m, in \u001b[0;36mfilter_traceback.<locals>.error_handler\u001b[0;34m(*args, **kwargs)\u001b[0m\n\u001b[1;32m     67\u001b[0m     filtered_tb \u001b[39m=\u001b[39m _process_traceback_frames(e\u001b[39m.\u001b[39m__traceback__)\n\u001b[1;32m     68\u001b[0m     \u001b[39m# To get the full stack trace, call:\u001b[39;00m\n\u001b[1;32m     69\u001b[0m     \u001b[39m# `tf.debugging.disable_traceback_filtering()`\u001b[39;00m\n\u001b[0;32m---> 70\u001b[0m     \u001b[39mraise\u001b[39;00m e\u001b[39m.\u001b[39mwith_traceback(filtered_tb) \u001b[39mfrom\u001b[39;00m \u001b[39mNone\u001b[39m\n\u001b[1;32m     71\u001b[0m \u001b[39mfinally\u001b[39;00m:\n\u001b[1;32m     72\u001b[0m     \u001b[39mdel\u001b[39;00m filtered_tb\n",
      "File \u001b[0;32m~/opt/anaconda3/envs/auctioneer/lib/python3.10/site-packages/tensorflow/python/saved_model/loader_impl.py:115\u001b[0m, in \u001b[0;36mparse_saved_model\u001b[0;34m(export_dir)\u001b[0m\n\u001b[1;32m    113\u001b[0m     \u001b[39mraise\u001b[39;00m \u001b[39mIOError\u001b[39;00m(\u001b[39mf\u001b[39m\u001b[39m\"\u001b[39m\u001b[39mCannot parse file \u001b[39m\u001b[39m{\u001b[39;00mpath_to_pbtxt\u001b[39m}\u001b[39;00m\u001b[39m: \u001b[39m\u001b[39m{\u001b[39;00m\u001b[39mstr\u001b[39m(e)\u001b[39m}\u001b[39;00m\u001b[39m.\u001b[39m\u001b[39m\"\u001b[39m)\n\u001b[1;32m    114\u001b[0m \u001b[39melse\u001b[39;00m:\n\u001b[0;32m--> 115\u001b[0m   \u001b[39mraise\u001b[39;00m \u001b[39mIOError\u001b[39;00m(\n\u001b[1;32m    116\u001b[0m       \u001b[39mf\u001b[39m\u001b[39m\"\u001b[39m\u001b[39mSavedModel file does not exist at: \u001b[39m\u001b[39m{\u001b[39;00mexport_dir\u001b[39m}\u001b[39;00m\u001b[39m{\u001b[39;00mos\u001b[39m.\u001b[39mpath\u001b[39m.\u001b[39msep\u001b[39m}\u001b[39;00m\u001b[39m\"\u001b[39m\n\u001b[1;32m    117\u001b[0m       \u001b[39mf\u001b[39m\u001b[39m\"\u001b[39m\u001b[39m{{\u001b[39;00m\u001b[39m{\u001b[39;00mconstants\u001b[39m.\u001b[39mSAVED_MODEL_FILENAME_PBTXT\u001b[39m}\u001b[39;00m\u001b[39m|\u001b[39m\u001b[39m\"\u001b[39m\n\u001b[1;32m    118\u001b[0m       \u001b[39mf\u001b[39m\u001b[39m\"\u001b[39m\u001b[39m{\u001b[39;00mconstants\u001b[39m.\u001b[39mSAVED_MODEL_FILENAME_PB\u001b[39m}\u001b[39;00m\u001b[39m}}\u001b[39;00m\u001b[39m\"\u001b[39m)\n",
      "\u001b[0;31mOSError\u001b[0m: SavedModel file does not exist at: /var/folders/tm/wlbv0c4j0gnb8bk65vggdnkm0000gn/T/tmpejdmyaov/TrainedModel/{saved_model.pbtxt|saved_model.pb}"
     ]
    }
   ],
   "source": [
    "model, scalers = download_model(s3)"
   ]
  },
  {
   "cell_type": "code",
   "execution_count": null,
   "metadata": {},
   "outputs": [],
   "source": [
    "tempdir = 't'\n",
    "download_s3_directory(s3, 'TrainedModel', f\"{tempdir}\")\n"
   ]
  },
  {
   "cell_type": "code",
   "execution_count": 47,
   "metadata": {},
   "outputs": [],
   "source": [
    "model = tf.keras.models.load_model(f\"{tempdir}/TrainedModel\")"
   ]
  },
  {
   "cell_type": "code",
   "execution_count": 48,
   "metadata": {},
   "outputs": [
    {
     "ename": "TypeError",
     "evalue": "Model.predict() missing 1 required positional argument: 'x'",
     "output_type": "error",
     "traceback": [
      "\u001b[0;31m---------------------------------------------------------------------------\u001b[0m",
      "\u001b[0;31mTypeError\u001b[0m                                 Traceback (most recent call last)",
      "Cell \u001b[0;32mIn [48], line 1\u001b[0m\n\u001b[0;32m----> 1\u001b[0m model\u001b[39m.\u001b[39;49mpredict()\n",
      "File \u001b[0;32m~/opt/anaconda3/envs/auctioneer/lib/python3.10/site-packages/keras/utils/traceback_utils.py:70\u001b[0m, in \u001b[0;36mfilter_traceback.<locals>.error_handler\u001b[0;34m(*args, **kwargs)\u001b[0m\n\u001b[1;32m     67\u001b[0m     filtered_tb \u001b[39m=\u001b[39m _process_traceback_frames(e\u001b[39m.\u001b[39m__traceback__)\n\u001b[1;32m     68\u001b[0m     \u001b[39m# To get the full stack trace, call:\u001b[39;00m\n\u001b[1;32m     69\u001b[0m     \u001b[39m# `tf.debugging.disable_traceback_filtering()`\u001b[39;00m\n\u001b[0;32m---> 70\u001b[0m     \u001b[39mraise\u001b[39;00m e\u001b[39m.\u001b[39mwith_traceback(filtered_tb) \u001b[39mfrom\u001b[39;00m \u001b[39mNone\u001b[39m\n\u001b[1;32m     71\u001b[0m \u001b[39mfinally\u001b[39;00m:\n\u001b[1;32m     72\u001b[0m     \u001b[39mdel\u001b[39;00m filtered_tb\n",
      "File \u001b[0;32m~/opt/anaconda3/envs/auctioneer/lib/python3.10/site-packages/keras/utils/traceback_utils.py:65\u001b[0m, in \u001b[0;36mfilter_traceback.<locals>.error_handler\u001b[0;34m(*args, **kwargs)\u001b[0m\n\u001b[1;32m     63\u001b[0m filtered_tb \u001b[39m=\u001b[39m \u001b[39mNone\u001b[39;00m\n\u001b[1;32m     64\u001b[0m \u001b[39mtry\u001b[39;00m:\n\u001b[0;32m---> 65\u001b[0m     \u001b[39mreturn\u001b[39;00m fn(\u001b[39m*\u001b[39margs, \u001b[39m*\u001b[39m\u001b[39m*\u001b[39mkwargs)\n\u001b[1;32m     66\u001b[0m \u001b[39mexcept\u001b[39;00m \u001b[39mException\u001b[39;00m \u001b[39mas\u001b[39;00m e:\n\u001b[1;32m     67\u001b[0m     filtered_tb \u001b[39m=\u001b[39m _process_traceback_frames(e\u001b[39m.\u001b[39m__traceback__)\n",
      "\u001b[0;31mTypeError\u001b[0m: Model.predict() missing 1 required positional argument: 'x'"
     ]
    }
   ],
   "source": [
    "model.predict()"
   ]
  },
  {
   "cell_type": "code",
   "execution_count": null,
   "metadata": {},
   "outputs": [],
   "source": []
  }
 ],
 "metadata": {
  "kernelspec": {
   "display_name": "Python 3.10.8 ('auctioneer')",
   "language": "python",
   "name": "python3"
  },
  "language_info": {
   "codemirror_mode": {
    "name": "ipython",
    "version": 3
   },
   "file_extension": ".py",
   "mimetype": "text/x-python",
   "name": "python",
   "nbconvert_exporter": "python",
   "pygments_lexer": "ipython3",
   "version": "3.10.8"
  },
  "orig_nbformat": 4,
  "vscode": {
   "interpreter": {
    "hash": "e1ae6efdd554636ece5e7eebfa71e4dedd0a51ec3948d1659d6fad1a80a3f933"
   }
  }
 },
 "nbformat": 4,
 "nbformat_minor": 2
}
