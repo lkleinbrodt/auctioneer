{
 "cells": [
  {
   "cell_type": "code",
   "execution_count": 36,
   "metadata": {},
   "outputs": [
    {
     "name": "stdout",
     "output_type": "stream",
     "text": [
      "The autoreload extension is already loaded. To reload it, use:\n",
      "  %reload_ext autoreload\n"
     ]
    }
   ],
   "source": [
    "%load_ext autoreload\n",
    "%autoreload 2\n",
    "import os\n",
    "from auctioneer import *\n",
    "import pandas as pd\n",
    "# import alpaca as alp\n",
    "# from alpaca.trading.client import TradingClient\n",
    "# from alpaca.trading.requests import MarketOrderRequest\n",
    "# from alpaca.trading.enums import OrderSide, TimeInForce\n",
    "from dateutil.relativedelta import relativedelta\n",
    "# from scipy.stats import linregress\n",
    "import numpy as np\n",
    "import tensorflow as tf\n",
    "\n",
    "STARTING_BALANCE = 100_000\n",
    "N_DAYS = 10\n",
    "THRESHOLD = 1\n",
    "START_DATE = \"09-01-2010\"\n",
    "END_DATE = \"11-01-2022\"\n",
    "\n",
    "HISTORY_STEPS = 10#480\n",
    "TARGET_STEPS = 2#120\n",
    "MAX_EPOCHS = 20\n",
    "BATCH_SIZE = 32\n",
    "LEARNING_RATE = .001\n"
   ]
  },
  {
   "cell_type": "code",
   "execution_count": 61,
   "metadata": {},
   "outputs": [],
   "source": []
  }
 ],
 "metadata": {
  "kernelspec": {
   "display_name": "Python 3.9.13 ('h2h')",
   "language": "python",
   "name": "python3"
  },
  "language_info": {
   "codemirror_mode": {
    "name": "ipython",
    "version": 3
   },
   "file_extension": ".py",
   "mimetype": "text/x-python",
   "name": "python",
   "nbconvert_exporter": "python",
   "pygments_lexer": "ipython3",
   "version": "3.9.13"
  },
  "orig_nbformat": 4,
  "vscode": {
   "interpreter": {
    "hash": "ffb65de30d20d318aa9aaef4674f44a379a63f6ca13f16cc4484279152d39e64"
   }
  }
 },
 "nbformat": 4,
 "nbformat_minor": 2
}
