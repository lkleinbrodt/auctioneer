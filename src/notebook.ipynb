{
 "cells": [
  {
   "cell_type": "code",
   "execution_count": 13,
   "metadata": {},
   "outputs": [],
   "source": [
    "import pandas as pd\n",
    "from auctioneer import *"
   ]
  },
  {
   "cell_type": "code",
   "execution_count": 14,
   "metadata": {},
   "outputs": [],
   "source": [
    "soi = get_crypto_symbols()"
   ]
  },
  {
   "cell_type": "code",
   "execution_count": 15,
   "metadata": {},
   "outputs": [
    {
     "ename": "AttributeError",
     "evalue": "'Series' object has no attribute 'set_index'",
     "output_type": "error",
     "traceback": [
      "\u001b[0;31m---------------------------------------------------------------------------\u001b[0m",
      "\u001b[0;31mAttributeError\u001b[0m                            Traceback (most recent call last)",
      "Cell \u001b[0;32mIn [15], line 1\u001b[0m\n\u001b[0;32m----> 1\u001b[0m x \u001b[39m=\u001b[39m pull_crypto_prices(soi, start_date \u001b[39m=\u001b[39;49m \u001b[39m'\u001b[39;49m\u001b[39m2022-10-01\u001b[39;49m\u001b[39m'\u001b[39;49m)\n",
      "File \u001b[0;32m~/Projects/auctioneer/src/auctioneer.py:173\u001b[0m, in \u001b[0;36mpull_crypto_prices\u001b[0;34m(symbols, start_date, end_date, timeframe, client, column)\u001b[0m\n\u001b[1;32m    160\u001b[0m     prices \u001b[39m=\u001b[39m bars_df\u001b[39m.\u001b[39mdroplevel(\u001b[39m'\u001b[39m\u001b[39msymbol\u001b[39m\u001b[39m'\u001b[39m)\n\u001b[1;32m    162\u001b[0m \u001b[39m#TODO: cannot compare tz-naive and tz-aware timestamps\u001b[39;00m\n\u001b[1;32m    163\u001b[0m \u001b[39m# pstart = prices.index.get_level_values('timestamp').min()\u001b[39;00m\n\u001b[1;32m    164\u001b[0m \u001b[39m# pend = prices.index.get_level_values('timestamp').max()\u001b[39;00m\n\u001b[0;32m   (...)\u001b[0m\n\u001b[1;32m    170\u001b[0m \u001b[39m#     Returned End: {pend}\u001b[39;00m\n\u001b[1;32m    171\u001b[0m \u001b[39m#     \"\"\")\u001b[39;00m\n\u001b[0;32m--> 173\u001b[0m wide_prices \u001b[39m=\u001b[39m pivot_price_data(prices)\n\u001b[1;32m    174\u001b[0m \u001b[39mreturn\u001b[39;00m wide_prices\n",
      "File \u001b[0;32m~/Projects/auctioneer/src/auctioneer.py:185\u001b[0m, in \u001b[0;36mpivot_price_data\u001b[0;34m(price_data)\u001b[0m\n\u001b[1;32m    181\u001b[0m \u001b[39mdef\u001b[39;00m \u001b[39mpivot_price_data\u001b[39m(price_data):\n\u001b[1;32m    182\u001b[0m     \u001b[39m\"\"\"Pivots price data from tall to wide format, \u001b[39;00m\n\u001b[1;32m    183\u001b[0m \u001b[39m    filters data to only after first timestamp where all symbols have non-NA\u001b[39;00m\n\u001b[1;32m    184\u001b[0m \u001b[39m    \"\"\"\u001b[39;00m\n\u001b[0;32m--> 185\u001b[0m     wide_data \u001b[39m=\u001b[39m price_data\u001b[39m.\u001b[39;49mset_index(\u001b[39m'\u001b[39m\u001b[39mtimestamp\u001b[39m\u001b[39m'\u001b[39m)\n\u001b[1;32m    186\u001b[0m     wide_data \u001b[39m=\u001b[39m wide_data\u001b[39m.\u001b[39mpivot(columns\u001b[39m=\u001b[39m\u001b[39m'\u001b[39m\u001b[39msymbol\u001b[39m\u001b[39m'\u001b[39m, values \u001b[39m=\u001b[39m \u001b[39m'\u001b[39m\u001b[39mclose\u001b[39m\u001b[39m'\u001b[39m)\n\u001b[1;32m    187\u001b[0m     \u001b[39mtry\u001b[39;00m:\n",
      "File \u001b[0;32m~/opt/anaconda3/envs/auctioneer/lib/python3.10/site-packages/pandas/core/generic.py:5902\u001b[0m, in \u001b[0;36mNDFrame.__getattr__\u001b[0;34m(self, name)\u001b[0m\n\u001b[1;32m   5895\u001b[0m \u001b[39mif\u001b[39;00m (\n\u001b[1;32m   5896\u001b[0m     name \u001b[39mnot\u001b[39;00m \u001b[39min\u001b[39;00m \u001b[39mself\u001b[39m\u001b[39m.\u001b[39m_internal_names_set\n\u001b[1;32m   5897\u001b[0m     \u001b[39mand\u001b[39;00m name \u001b[39mnot\u001b[39;00m \u001b[39min\u001b[39;00m \u001b[39mself\u001b[39m\u001b[39m.\u001b[39m_metadata\n\u001b[1;32m   5898\u001b[0m     \u001b[39mand\u001b[39;00m name \u001b[39mnot\u001b[39;00m \u001b[39min\u001b[39;00m \u001b[39mself\u001b[39m\u001b[39m.\u001b[39m_accessors\n\u001b[1;32m   5899\u001b[0m     \u001b[39mand\u001b[39;00m \u001b[39mself\u001b[39m\u001b[39m.\u001b[39m_info_axis\u001b[39m.\u001b[39m_can_hold_identifiers_and_holds_name(name)\n\u001b[1;32m   5900\u001b[0m ):\n\u001b[1;32m   5901\u001b[0m     \u001b[39mreturn\u001b[39;00m \u001b[39mself\u001b[39m[name]\n\u001b[0;32m-> 5902\u001b[0m \u001b[39mreturn\u001b[39;00m \u001b[39mobject\u001b[39;49m\u001b[39m.\u001b[39;49m\u001b[39m__getattribute__\u001b[39;49m(\u001b[39mself\u001b[39;49m, name)\n",
      "\u001b[0;31mAttributeError\u001b[0m: 'Series' object has no attribute 'set_index'"
     ]
    }
   ],
   "source": [
    "x = pull_crypto_prices(soi, start_date = '2022-10-01')"
   ]
  },
  {
   "cell_type": "code",
   "execution_count": null,
   "metadata": {},
   "outputs": [],
   "source": [
    "x.shape"
   ]
  },
  {
   "cell_type": "code",
   "execution_count": null,
   "metadata": {},
   "outputs": [],
   "source": []
  }
 ],
 "metadata": {
  "kernelspec": {
   "display_name": "Python 3.10.8 ('auctioneer')",
   "language": "python",
   "name": "python3"
  },
  "language_info": {
   "codemirror_mode": {
    "name": "ipython",
    "version": 3
   },
   "file_extension": ".py",
   "mimetype": "text/x-python",
   "name": "python",
   "nbconvert_exporter": "python",
   "pygments_lexer": "ipython3",
   "version": "3.10.8"
  },
  "orig_nbformat": 4,
  "vscode": {
   "interpreter": {
    "hash": "e1ae6efdd554636ece5e7eebfa71e4dedd0a51ec3948d1659d6fad1a80a3f933"
   }
  }
 },
 "nbformat": 4,
 "nbformat_minor": 2
}
