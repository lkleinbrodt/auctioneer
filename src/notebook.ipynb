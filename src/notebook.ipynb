{
 "cells": [
  {
   "cell_type": "code",
   "execution_count": 2,
   "metadata": {},
   "outputs": [
    {
     "name": "stdout",
     "output_type": "stream",
     "text": [
      "The autoreload extension is already loaded. To reload it, use:\n",
      "  %reload_ext autoreload\n"
     ]
    }
   ],
   "source": [
    "%load_ext autoreload\n",
    "%autoreload 2\n",
    "import pandas as pd\n",
    "from auctioneer import *\n",
    "from train_crypto_bot import *\n",
    "pd.options.mode.chained_assignment = None"
   ]
  },
  {
   "cell_type": "code",
   "execution_count": 3,
   "metadata": {},
   "outputs": [],
   "source": [
    "STARTING_BALANCE = 100_000"
   ]
  },
  {
   "cell_type": "code",
   "execution_count": 4,
   "metadata": {},
   "outputs": [
    {
     "name": "stderr",
     "output_type": "stream",
     "text": [
      "14:01:44: Reading data\n",
      "2022-12-08 14:01:49.525301: I tensorflow/core/platform/cpu_feature_guard.cc:193] This TensorFlow binary is optimized with oneAPI Deep Neural Network Library (oneDNN) to use the following CPU instructions in performance-critical operations:  AVX2 FMA\n",
      "To enable them in other operations, rebuild TensorFlow with the appropriate compiler flags.\n"
     ]
    }
   ],
   "source": [
    "s3 = create_s3()\n",
    "data = load_data(s3, None, None)\n",
    "model = encoder_model(HISTORY_STEPS, TARGET_STEPS, 3)\n",
    "model.load_weights('../../models/checkpoint.ckpt')\n",
    "scalers = joblib.load('../../models/scalers.gz')"
   ]
  },
  {
   "cell_type": "code",
   "execution_count": 5,
   "metadata": {},
   "outputs": [],
   "source": [
    "def one_day(date, portfolio, data, model, scalers):\n",
    "    data = data.loc[:date]\n",
    "    predictions = predict_forward(data, model, scalers, HISTORY_STEPS)\n",
    "    terminal_prices = {data.columns[i]: predictions[-1,i] for i in range(data.shape[1])}\n",
    "\n",
    "    orders = {}\n",
    "    for symbol in terminal_prices.keys():\n",
    "        current_price = data[symbol].values[-1]\n",
    "        predicted_price = terminal_prices[symbol]\n",
    "\n",
    "        if predicted_price > current_price:\n",
    "            amount = 1\n",
    "            orders[symbol] = {'action': 'buy', 'amount': amount}\n",
    "        elif predicted_price < current_price:\n",
    "            amount = portfolio.holdings.get(symbol, 0)\n",
    "            amount = max([1, amount // 10])\n",
    "            orders[symbol] = {'action': 'sell', 'amount': amount}\n",
    "    \n",
    "    return orders"
   ]
  },
  {
   "cell_type": "code",
   "execution_count": 22,
   "metadata": {},
   "outputs": [],
   "source": [
    "def backtest(data, model, scalers):\n",
    "    portfolio = Portfolio(STARTING_BALANCE, data)\n",
    "\n",
    "\n",
    "    for i, date in enumerate(data.index):\n",
    "        if i < HISTORY_STEPS:\n",
    "            continue    \n",
    "        orders = one_day(date, portfolio, data, model, scalers)\n",
    "        if orders is not None:\n",
    "            portfolio.execute(date, orders)\n",
    "\n",
    "        if (i % 25) == 0:\n",
    "            print(i)\n",
    "            print(orders)\n",
    "    return portfolio\n",
    "\n",
    "def windowed_backtest(data,model, scalers, window_size, stride = 1):\n",
    "    logger.info('Windowed test')\n",
    "    results = []\n",
    "    for i in range(0, data.shape[0]-window_size, stride):\n",
    "        tmp = data.iloc[i:i+window_size]\n",
    "        result = backtest(tmp,model, scalers)\n",
    "        log = result.transaction_log_summary()\n",
    "\n",
    "        long_result = long_return(tmp, STARTING_BALANCE)\n",
    "        results.append({\n",
    "            'StartDate': data.index[i], \n",
    "            'EndValue': result.value()['Total'],\n",
    "            'LongValue': long_result,\n",
    "            'N_Buys': log['buys'][0],\n",
    "            'N_Sells': log['sells'][0],\n",
    "        })\n",
    "    \n",
    "    return pd.DataFrame(results)"
   ]
  },
  {
   "cell_type": "code",
   "execution_count": 23,
   "metadata": {},
   "outputs": [],
   "source": [
    "start_index = data.index.get_loc(data.loc[END_DATE].index[0]) - HISTORY_STEPS"
   ]
  },
  {
   "cell_type": "code",
   "execution_count": 24,
   "metadata": {},
   "outputs": [],
   "source": [
    "eval_data = data.iloc[start_index:]\n",
    "eval_data = eval_data.head(1000).bfill().ffill()"
   ]
  },
  {
   "cell_type": "code",
   "execution_count": 21,
   "metadata": {},
   "outputs": [
    {
     "data": {
      "text/plain": [
       "{'BTC/USD': {'action': 'buy', 'amount': 1},\n",
       " 'ETH/USD': {'action': 'buy', 'amount': 1},\n",
       " 'SOL/USD': {'action': 'buy', 'amount': 1}}"
      ]
     },
     "execution_count": 21,
     "metadata": {},
     "output_type": "execute_result"
    }
   ],
   "source": [
    "portfolio = Portfolio(STARTING_BALANCE, eval_data)\n",
    "one_day(eval_data.index[400], portfolio, eval_data, model, scalers)"
   ]
  },
  {
   "cell_type": "code",
   "execution_count": 26,
   "metadata": {},
   "outputs": [
    {
     "name": "stdout",
     "output_type": "stream",
     "text": [
      "250\n",
      "{'BTC/USD': {'action': 'buy', 'amount': 1}, 'ETH/USD': {'action': 'buy', 'amount': 1}, 'SOL/USD': {'action': 'buy', 'amount': 1}}\n",
      "275\n",
      "{'BTC/USD': {'action': 'buy', 'amount': 1}, 'ETH/USD': {'action': 'buy', 'amount': 1}, 'SOL/USD': {'action': 'buy', 'amount': 1}}\n",
      "300\n",
      "{'BTC/USD': {'action': 'buy', 'amount': 1}, 'ETH/USD': {'action': 'buy', 'amount': 1}, 'SOL/USD': {'action': 'buy', 'amount': 1}}\n",
      "325\n",
      "{'BTC/USD': {'action': 'buy', 'amount': 1}, 'ETH/USD': {'action': 'buy', 'amount': 1}, 'SOL/USD': {'action': 'buy', 'amount': 1}}\n",
      "350\n",
      "{'BTC/USD': {'action': 'buy', 'amount': 1}, 'ETH/USD': {'action': 'buy', 'amount': 1}, 'SOL/USD': {'action': 'buy', 'amount': 1}}\n",
      "375\n",
      "{'BTC/USD': {'action': 'buy', 'amount': 1}, 'ETH/USD': {'action': 'buy', 'amount': 1}, 'SOL/USD': {'action': 'buy', 'amount': 1}}\n",
      "400\n",
      "{'BTC/USD': {'action': 'buy', 'amount': 1}, 'ETH/USD': {'action': 'buy', 'amount': 1}, 'SOL/USD': {'action': 'buy', 'amount': 1}}\n",
      "425\n",
      "{'BTC/USD': {'action': 'buy', 'amount': 1}, 'ETH/USD': {'action': 'buy', 'amount': 1}, 'SOL/USD': {'action': 'buy', 'amount': 1}}\n",
      "450\n",
      "{'BTC/USD': {'action': 'buy', 'amount': 1}, 'ETH/USD': {'action': 'buy', 'amount': 1}, 'SOL/USD': {'action': 'buy', 'amount': 1}}\n",
      "475\n",
      "{'BTC/USD': {'action': 'buy', 'amount': 1}, 'ETH/USD': {'action': 'buy', 'amount': 1}, 'SOL/USD': {'action': 'buy', 'amount': 1}}\n",
      "500\n",
      "{'BTC/USD': {'action': 'buy', 'amount': 1}, 'ETH/USD': {'action': 'buy', 'amount': 1}, 'SOL/USD': {'action': 'buy', 'amount': 1}}\n",
      "525\n",
      "{'BTC/USD': {'action': 'buy', 'amount': 1}, 'ETH/USD': {'action': 'buy', 'amount': 1}, 'SOL/USD': {'action': 'buy', 'amount': 1}}\n",
      "550\n",
      "{'BTC/USD': {'action': 'buy', 'amount': 1}, 'ETH/USD': {'action': 'buy', 'amount': 1}, 'SOL/USD': {'action': 'buy', 'amount': 1}}\n",
      "575\n",
      "{'BTC/USD': {'action': 'buy', 'amount': 1}, 'ETH/USD': {'action': 'buy', 'amount': 1}, 'SOL/USD': {'action': 'buy', 'amount': 1}}\n",
      "600\n",
      "{'BTC/USD': {'action': 'buy', 'amount': 1}, 'ETH/USD': {'action': 'buy', 'amount': 1}, 'SOL/USD': {'action': 'buy', 'amount': 1}}\n",
      "625\n",
      "{'BTC/USD': {'action': 'buy', 'amount': 1}, 'ETH/USD': {'action': 'buy', 'amount': 1}, 'SOL/USD': {'action': 'buy', 'amount': 1}}\n",
      "650\n",
      "{'BTC/USD': {'action': 'buy', 'amount': 1}, 'ETH/USD': {'action': 'buy', 'amount': 1}, 'SOL/USD': {'action': 'buy', 'amount': 1}}\n",
      "675\n",
      "{'BTC/USD': {'action': 'buy', 'amount': 1}, 'ETH/USD': {'action': 'buy', 'amount': 1}, 'SOL/USD': {'action': 'buy', 'amount': 1}}\n",
      "700\n",
      "{'BTC/USD': {'action': 'buy', 'amount': 1}, 'ETH/USD': {'action': 'buy', 'amount': 1}, 'SOL/USD': {'action': 'buy', 'amount': 1}}\n",
      "725\n",
      "{'BTC/USD': {'action': 'buy', 'amount': 1}, 'ETH/USD': {'action': 'buy', 'amount': 1}, 'SOL/USD': {'action': 'buy', 'amount': 1}}\n",
      "750\n",
      "{'BTC/USD': {'action': 'buy', 'amount': 1}, 'ETH/USD': {'action': 'buy', 'amount': 1}, 'SOL/USD': {'action': 'buy', 'amount': 1}}\n",
      "775\n",
      "{'BTC/USD': {'action': 'buy', 'amount': 1}, 'ETH/USD': {'action': 'buy', 'amount': 1}, 'SOL/USD': {'action': 'buy', 'amount': 1}}\n",
      "800\n",
      "{'BTC/USD': {'action': 'buy', 'amount': 1}, 'ETH/USD': {'action': 'buy', 'amount': 1}, 'SOL/USD': {'action': 'buy', 'amount': 1}}\n",
      "825\n",
      "{'BTC/USD': {'action': 'buy', 'amount': 1}, 'ETH/USD': {'action': 'buy', 'amount': 1}, 'SOL/USD': {'action': 'buy', 'amount': 1}}\n",
      "850\n",
      "{'BTC/USD': {'action': 'buy', 'amount': 1}, 'ETH/USD': {'action': 'buy', 'amount': 1}, 'SOL/USD': {'action': 'buy', 'amount': 1}}\n",
      "875\n",
      "{'BTC/USD': {'action': 'buy', 'amount': 1}, 'ETH/USD': {'action': 'buy', 'amount': 1}, 'SOL/USD': {'action': 'buy', 'amount': 1}}\n",
      "900\n",
      "{'BTC/USD': {'action': 'buy', 'amount': 1}, 'ETH/USD': {'action': 'buy', 'amount': 1}, 'SOL/USD': {'action': 'buy', 'amount': 1}}\n",
      "925\n",
      "{'BTC/USD': {'action': 'buy', 'amount': 1}, 'ETH/USD': {'action': 'buy', 'amount': 1}, 'SOL/USD': {'action': 'buy', 'amount': 1}}\n",
      "950\n",
      "{'BTC/USD': {'action': 'buy', 'amount': 1}, 'ETH/USD': {'action': 'buy', 'amount': 1}, 'SOL/USD': {'action': 'buy', 'amount': 1}}\n",
      "975\n",
      "{'BTC/USD': {'action': 'buy', 'amount': 1}, 'ETH/USD': {'action': 'buy', 'amount': 1}, 'SOL/USD': {'action': 'buy', 'amount': 1}}\n"
     ]
    }
   ],
   "source": [
    "x = backtest(eval_data, model, scalers)"
   ]
  },
  {
   "cell_type": "code",
   "execution_count": null,
   "metadata": {},
   "outputs": [],
   "source": []
  }
 ],
 "metadata": {
  "kernelspec": {
   "display_name": "Python 3.10.8 ('auctioneer')",
   "language": "python",
   "name": "python3"
  },
  "language_info": {
   "codemirror_mode": {
    "name": "ipython",
    "version": 3
   },
   "file_extension": ".py",
   "mimetype": "text/x-python",
   "name": "python",
   "nbconvert_exporter": "python",
   "pygments_lexer": "ipython3",
   "version": "3.10.8"
  },
  "orig_nbformat": 4,
  "vscode": {
   "interpreter": {
    "hash": "e1ae6efdd554636ece5e7eebfa71e4dedd0a51ec3948d1659d6fad1a80a3f933"
   }
  }
 },
 "nbformat": 4,
 "nbformat_minor": 2
}
